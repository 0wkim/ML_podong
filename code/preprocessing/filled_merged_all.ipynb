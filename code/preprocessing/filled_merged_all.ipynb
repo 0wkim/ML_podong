{
 "cells": [
  {
   "cell_type": "markdown",
   "id": "030639a5",
   "metadata": {},
   "source": [
    "### 결측치 채운 5년치 데이터를 모두 병합한 코드 입니다."
   ]
  },
  {
   "cell_type": "code",
   "execution_count": 1,
   "id": "97be87f0",
   "metadata": {},
   "outputs": [
    {
     "name": "stdout",
     "output_type": "stream",
     "text": [
      "병합 및 정렬 완료! 저장 경로: C:\\Users\\김영우\\기계학습_프로젝트\\data\\filled\\filled_merged_all.csv\n"
     ]
    }
   ],
   "source": [
    "import pandas as pd\n",
    "import os\n",
    "\n",
    "# CSV 파일이 있는 디렉토리\n",
    "base_dir = r\"C:\\Users\\김영우\\기계학습_프로젝트\\data\\filled\"\n",
    "\n",
    "# 디렉토리 내 모든 .csv 파일 경로 가져오기\n",
    "file_paths = [\n",
    "    os.path.join(base_dir, file)\n",
    "    for file in os.listdir(base_dir)\n",
    "    if file.endswith(\".csv\")\n",
    "]\n",
    "\n",
    "# 모든 CSV 읽어서 병합\n",
    "dataframes = [pd.read_csv(path) for path in file_paths]\n",
    "merged_df = pd.concat(dataframes, ignore_index=True)\n",
    "\n",
    "# 조회일 컬럼을 datetime으로 변환 후 정렬\n",
    "merged_df[\"조회일\"] = pd.to_datetime(merged_df[\"조회일\"])\n",
    "merged_df = merged_df.sort_values(\"조회일\").reset_index(drop=True)\n",
    "\n",
    "# 저장\n",
    "output_path = os.path.join(base_dir, \"filled_merged_all.csv\")\n",
    "merged_df.to_csv(output_path, index=False, encoding=\"utf-8-sig\")\n",
    "\n",
    "print(\"병합 및 정렬 완료! 저장 경로:\", output_path)"
   ]
  },
  {
   "cell_type": "code",
   "execution_count": null,
   "id": "c5a40bbf",
   "metadata": {},
   "outputs": [],
   "source": []
  }
 ],
 "metadata": {
  "kernelspec": {
   "display_name": "Python 3 (ipykernel)",
   "language": "python",
   "name": "python3"
  },
  "language_info": {
   "codemirror_mode": {
    "name": "ipython",
    "version": 3
   },
   "file_extension": ".py",
   "mimetype": "text/x-python",
   "name": "python",
   "nbconvert_exporter": "python",
   "pygments_lexer": "ipython3",
   "version": "3.7.9"
  }
 },
 "nbformat": 4,
 "nbformat_minor": 5
}
