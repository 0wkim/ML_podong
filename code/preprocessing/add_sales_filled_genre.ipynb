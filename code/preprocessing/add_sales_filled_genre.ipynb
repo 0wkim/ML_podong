{
 "cells": [
  {
   "cell_type": "code",
   "execution_count": 2,
   "id": "a6fc48f8",
   "metadata": {},
   "outputs": [],
   "source": [
    "import pandas as pd\n",
    "import ast  # 문자열 리스트를 실제 리스트로 변환하기 위해 필요\n",
    "\n",
    "# CSV 파일 불러오기\n",
    "df = pd.read_csv(\"data_listed.csv\")\n",
    "\n",
    "# '매출액' 리스트를 변환하고 합산\n",
    "def calculate_total_sales(sales_str):\n",
    "    try:\n",
    "        sales_list = ast.literal_eval(sales_str)  # 문자열 → 리스트 변환\n",
    "        return sum(sales_list)\n",
    "    except:\n",
    "        return 0  # 오류 발생 시 0 반환\n",
    "\n",
    "# '총매출액' 컬럼 생성\n",
    "df['총매출액'] = df['매출액'].apply(calculate_total_sales)\n",
    "\n",
    "# 총매출액 컬럼을 '매출액' 바로 뒤로 이동\n",
    "cols = df.columns.tolist()\n",
    "매출액_idx = cols.index('매출액')\n",
    "# '총매출액' 위치 재조정\n",
    "cols.insert(매출액_idx + 1, cols.pop(cols.index('총매출액')))\n",
    "df = df[cols]\n",
    "\n",
    "# 결과 저장\n",
    "df.to_csv(\"data_add_sales.csv\", index=False, encoding='utf-8-sig')"
   ]
  },
  {
   "cell_type": "code",
   "execution_count": 3,
   "id": "fd96e692",
   "metadata": {},
   "outputs": [],
   "source": [
    "# 누적매출액 열 제거\n",
    "\n",
    "import pandas as pd\n",
    "\n",
    "# CSV 파일 불러오기\n",
    "df = pd.read_csv(\"data_add_sales.csv\")\n",
    "\n",
    "# '누적매출액' 열 제거 (존재할 경우에만)\n",
    "if '누적매출액' in df.columns:\n",
    "    df = df.drop(columns=['누적매출액'])\n",
    "\n",
    "# 업데이트된 데이터 저장\n",
    "df.to_csv(\"data_add_sales.csv\", index=False, encoding='utf-8-sig')"
   ]
  },
  {
   "cell_type": "code",
   "execution_count": 11,
   "id": "0fbd3525",
   "metadata": {},
   "outputs": [
    {
     "name": "stdout",
     "output_type": "stream",
     "text": [
      "장르가 없는 영화 수: 0\n",
      "장르가 없는 영화 제목 목록:\n",
      "Series([], Name: 영화명, dtype: object)\n"
     ]
    }
   ],
   "source": [
    "# 장르가 빈 영화 개수 확인\n",
    "\n",
    "import pandas as pd\n",
    "\n",
    "# CSV 불러오기\n",
    "df = pd.read_csv(\"data_add_sales.csv\")\n",
    "\n",
    "# 장르가 비어 있거나 공백인 경우 찾기\n",
    "missing_genre = df['장르'].isna() | (df['장르'].astype(str).str.strip() == '')\n",
    "\n",
    "# 출력 행 수 제한 해제\n",
    "pd.set_option('display.max_rows', None)\n",
    "\n",
    "# 장르가 없는 영화 수 출력\n",
    "print(\"장르가 없는 영화 수:\", missing_genre.sum())\n",
    "\n",
    "# 영화 제목 전체 출력\n",
    "print(\"장르가 없는 영화 제목 목록:\")\n",
    "print(df.loc[missing_genre, '영화명'])"
   ]
  },
  {
   "cell_type": "code",
   "execution_count": 8,
   "id": "3737534c",
   "metadata": {},
   "outputs": [],
   "source": [
    "# 콤마 뒤 공백 제거\n",
    "\n",
    "import pandas as pd\n",
    "\n",
    "# CSV 불러오기\n",
    "df = pd.read_csv(\"data_add_sales.csv\")\n",
    "\n",
    "# 콤마 뒤 공백 제거: \", 액션\" → \",액션\"\n",
    "df['장르'] = df['장르'].astype(str).str.replace(r',\\s+', ',', regex=True)\n",
    "\n",
    "# 저장\n",
    "df.to_csv(\"data_add_sales.csv\", index=False, encoding='utf-8-sig')"
   ]
  },
  {
   "cell_type": "code",
   "execution_count": 12,
   "id": "de2f5b4b",
   "metadata": {},
   "outputs": [
    {
     "name": "stdout",
     "output_type": "stream",
     "text": [
      "data_add_sales.csv → final_data.csv 으로 파일명이 변경되었습니다.\n"
     ]
    }
   ],
   "source": [
    "import os\n",
    "\n",
    "# 기존 파일명과 새 파일명\n",
    "old_name = 'data_add_sales.csv'\n",
    "new_name = 'final_data.csv'\n",
    "\n",
    "# 파일 이름 변경\n",
    "if os.path.exists(old_name):\n",
    "    os.rename(old_name, new_name)\n",
    "    print(f\"{old_name} → {new_name} 으로 파일명이 변경되었습니다.\")\n",
    "else:\n",
    "    print(f\"{old_name} 파일이 존재하지 않습니다.\")"
   ]
  },
  {
   "cell_type": "code",
   "execution_count": null,
   "id": "60b5c037",
   "metadata": {},
   "outputs": [],
   "source": []
  }
 ],
 "metadata": {
  "kernelspec": {
   "display_name": "Python 3 (ipykernel)",
   "language": "python",
   "name": "python3"
  },
  "language_info": {
   "codemirror_mode": {
    "name": "ipython",
    "version": 3
   },
   "file_extension": ".py",
   "mimetype": "text/x-python",
   "name": "python",
   "nbconvert_exporter": "python",
   "pygments_lexer": "ipython3",
   "version": "3.7.9"
  }
 },
 "nbformat": 4,
 "nbformat_minor": 5
}
