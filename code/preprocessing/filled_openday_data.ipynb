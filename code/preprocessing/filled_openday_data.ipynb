{
 "cells": [
  {
   "cell_type": "code",
   "execution_count": null,
   "id": "a1bf6d45",
   "metadata": {},
   "outputs": [],
   "source": [
    "import os\n",
    "import pandas as pd\n",
    "\n",
    "# CSV 파일이 들어있는 폴더 경로\n",
    "folder_path = '../../data'\n",
    "\n",
    "# 불러올 CSV 파일 이름\n",
    "csv_filename = 'data.csv'\n",
    "\n",
    "# 전체 경로 생성\n",
    "csv_path = os.path.join(folder_path, csv_filename)\n",
    "\n",
    "# pandas로 CSV를 DataFrame으로 읽어들이기\n",
    "df = pd.read_csv(csv_path, encoding=\"utf-8\")"
   ]
  },
  {
   "cell_type": "code",
   "execution_count": null,
   "id": "bd871c6f",
   "metadata": {},
   "outputs": [],
   "source": [
    "# 2. 날짜 컬럼 형변환\n",
    "df['조회일'] = pd.to_datetime(df['조회일'], errors='coerce')\n",
    "df['개봉일'] = pd.to_datetime(df['개봉일'], errors='coerce')\n",
    "\n",
    "# 3. 영화별 첫 조회일 추출\n",
    "first_view_date = df.groupby('영화명')['조회일'].min().reset_index()\n",
    "first_view_date.columns = ['영화명', '첫조회일']\n",
    "\n",
    "# 4. 결측 개봉일을 영화별 첫 조회일로 대체\n",
    "df = df.merge(first_view_date, on='영화명', how='left')\n",
    "df['개봉일'] = df['개봉일'].fillna(df['첫조회일'])\n",
    "df.drop(columns=['첫조회일'], inplace=True)\n",
    "\n",
    "# 5. 상영일(개봉일로부터 며칠 지났는지) 계산\n",
    "df['상영일'] = (df['조회일'] - df['개봉일']).dt.days\n",
    "\n",
    "# 6. 영화명과 상영일 기준 내림차순 정렬\n",
    "df_sorted = df.sort_values(['영화명', '상영일'], ascending=[True, False])\n",
    "\n",
    "# 7. 결과 저장\n",
    "df_sorted.to_csv(\"sorted_movie_data.csv\", index=False, encoding='utf-8-sig')\n",
    "print(\"✅ 정렬된 결과가 'sorted_movie_data.csv'로 저장되었습니다.\")\n"
   ]
  }
 ],
 "metadata": {
  "language_info": {
   "name": "python"
  }
 },
 "nbformat": 4,
 "nbformat_minor": 5
}
