{
 "cells": [
  {
   "cell_type": "code",
   "execution_count": 14,
   "id": "a1bf6d45",
   "metadata": {},
   "outputs": [
    {
     "name": "stdout",
     "output_type": "stream",
     "text": [
      "                                       영화명         개봉일  \\\n",
      "0                                  너의 이름은.  2017-01-04   \n",
      "1                                   날씨의 아이  2019-10-30   \n",
      "2                               더 퍼스트 슬램덩크  2023-01-04   \n",
      "3                                     라라랜드  2016-12-07   \n",
      "4                               극장판 주술회전 0  2022-02-17   \n",
      "5                                   헤어질 결심  2022-06-29   \n",
      "6                                  탑건: 매버릭  2022-06-22   \n",
      "7  극장판 아이돌리쉬 세븐; 라이브 4비트 비욘드 더 피리어드 - 데이 2  2023-10-19   \n",
      "8  극장판 아이돌리쉬 세븐; 라이브 4비트 비욘드 더 피리어드 - 데이 1  2023-10-19   \n",
      "9                        극장판 귀멸의 칼날: 무한열차편  2021-01-27   \n",
      "\n",
      "                                                 조회일  \n",
      "0  ['2020-04-29', '2020-04-30', '2020-05-01', '20...  \n",
      "1  ['2020-04-29', '2020-04-30', '2020-05-01', '20...  \n",
      "2  ['2022-12-23', '2022-12-28', '2022-12-29', '20...  \n",
      "3  ['2020-04-29', '2020-04-30', '2020-05-01', '20...  \n",
      "4  ['2022-02-03', '2022-02-10', '2022-02-12', '20...  \n",
      "5  ['2022-06-21', '2022-06-22', '2022-06-23', '20...  \n",
      "6  ['2022-06-09', '2022-06-11', '2022-06-12', '20...  \n",
      "7  ['2023-10-15', '2023-10-19', '2023-10-20', '20...  \n",
      "8  ['2023-10-14', '2023-10-19', '2023-10-20', '20...  \n",
      "9  ['2021-01-19', '2021-01-22', '2021-01-23', '20...  \n"
     ]
    }
   ],
   "source": [
    "import os\n",
    "import pandas as pd\n",
    "import ast\n",
    "\n",
    "# 파일 경로 설정\n",
    "folder_path = '../../data'\n",
    "csv_filename = 'data.csv'\n",
    "csv_path = os.path.join(folder_path, csv_filename)\n",
    "\n",
    "# CSV 읽기\n",
    "df = pd.read_csv(csv_path, encoding=\"utf-8\")\n",
    "\n",
    "# 개봉일이 결측인 경우에만, 조회일에서 날짜 부분 문자열을 추출하여 채움\n",
    "mask = df['개봉일'].isna()\n",
    "df.loc[mask, '개봉일'] = df.loc[mask, '조회일'].str[2:12]\n",
    "\n",
    "# 결과 확인\n",
    "print(df[['영화명', '개봉일', '조회일']].head(10))\n",
    "\n",
    "# 결과 저장\n",
    "output_filename = 'fixed_release_dates.csv'\n",
    "output_path = os.path.join(folder_path, output_filename)\n",
    "df.to_csv(output_path, index=False, encoding=\"utf-8-sig\")\n"
   ]
  },
  {
   "cell_type": "code",
   "execution_count": null,
   "id": "18238cfd",
   "metadata": {},
   "outputs": [],
   "source": []
  }
 ],
 "metadata": {
  "kernelspec": {
   "display_name": "Python 3",
   "language": "python",
   "name": "python3"
  },
  "language_info": {
   "codemirror_mode": {
    "name": "ipython",
    "version": 3
   },
   "file_extension": ".py",
   "mimetype": "text/x-python",
   "name": "python",
   "nbconvert_exporter": "python",
   "pygments_lexer": "ipython3",
   "version": "3.9.1"
  }
 },
 "nbformat": 4,
 "nbformat_minor": 5
}
