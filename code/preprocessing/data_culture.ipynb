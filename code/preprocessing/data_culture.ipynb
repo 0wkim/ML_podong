{
 "cells": [
  {
   "cell_type": "code",
   "execution_count": 2,
   "id": "99169a9c",
   "metadata": {},
   "outputs": [
    {
     "name": "stdout",
     "output_type": "stream",
     "text": [
      "최종 데이터프레임 크기: (6650, 34)\n",
      "컬럼 목록: ['영화명', '매출액증감', '관객수증감(전일대비)', '매출액', '관객수', '스크린수', '상영횟수', '조회일', '개봉일', '대표국적', '국적', '배급사', '등급', '장르', '감독', '매출액(점유율)', '누적매출액', '누적관객수', '중복횟수', '순위', '매출액증감율(전일대비)', '관객수증감율(전일대비)', '제작사', '배우', 'SCRNG_MOVIE_CO_seoul_list', 'MOVIE_ADNC_CO_seoul_list', 'EXPNDTR_PRICE_seoul_list', 'POPLTN_PER_MOVIE_ADNC_CO_seoul_list', 'MOVIE_ADNC_CO_SCORE_seoul_list', 'EXPNDTR_PRICE_SCORE_seoul_list', 'GNRLZ_SCORE_seoul_list', 'STDR_SCRNG_MOVIE_CO_seoul_list', 'STDR_MOVIE_ADNC_CO_seoul_list', 'STDR_EXPNDTR_PRICE_seoul_list']\n"
     ]
    }
   ],
   "source": [
    "import pandas as pd\n",
    "import re\n",
    "from glob import glob\n",
    "\n",
    "# 1) preprocessing_all.csv 불러오기\n",
    "df_pre = pd.read_csv('preprocessing_all.csv')\n",
    "\n",
    "# 2) 조회일에서 리스트로 날짜 뽑기 함수\n",
    "def parse_dates(cell):\n",
    "    if isinstance(cell, str) and cell.strip().startswith('['):\n",
    "        # 리스트 형태 문자열에서 YYYY-MM-DD 패턴 전부 추출\n",
    "        return re.findall(r\"(\\d{4}-\\d{2}-\\d{2})\", cell)\n",
    "    else:\n",
    "        # 단일 날짜 문자열 혹은 Timestamp\n",
    "        m = re.search(r\"(\\d{4}-\\d{2}-\\d{2})\", str(cell))\n",
    "        return [m.group(1)] if m else []\n",
    "\n",
    "# 3) date_list & base_ym_list 컬럼 생성\n",
    "df_pre['date_list'] = df_pre['조회일'].apply(parse_dates)\n",
    "df_pre['base_ym_list'] = df_pre['date_list'].apply(\n",
    "    lambda dl: [int(pd.to_datetime(d).strftime('%Y%m')) for d in dl]\n",
    ")\n",
    "\n",
    "# 4) 문화지수 데이터 로드\n",
    "files = glob('문화지수데이터/KC_CLTUR_MOVIE_ACTIVE_IDEX_LIST_*.csv')\n",
    "df_idx = pd.concat(\n",
    "    (pd.read_csv(f, dtype={'BASE_YM': int}) for f in files),\n",
    "    ignore_index=True\n",
    ")\n",
    "\n",
    "# 5) '서울시' 행만 필터\n",
    "df_seoul = df_idx[df_idx['CTPRVN_NM'] == '서울시'].copy()\n",
    "\n",
    "# 6) 서울시 지표 컬럼 목록 추출\n",
    "exclude_cols = ['BASE_YM','BASE_YEAR','BASE_MT','CTPRVN_CD','CTPRVN_NM']\n",
    "metrics = [c for c in df_seoul.columns if c not in exclude_cols]\n",
    "\n",
    "# 7) BASE_YM을 인덱스로 설정\n",
    "df_seoul_wide = df_seoul.set_index('BASE_YM')[metrics]\n",
    "\n",
    "# 8) df_pre 각 행에 서울시 지표 리스트로 붙이기\n",
    "for m in metrics:\n",
    "    df_pre[f'{m}_seoul_list'] = df_pre['base_ym_list'].apply(\n",
    "        lambda yms: [\n",
    "            df_seoul_wide.loc[ym, m] if ym in df_seoul_wide.index else None\n",
    "            for ym in yms\n",
    "        ]\n",
    "    )\n",
    "\n",
    "# 9) (선택) 중간 컬럼 제거\n",
    "df_pre = df_pre.drop(columns=['date_list', 'base_ym_list'])\n",
    "\n",
    "# 10) 결과 확인\n",
    "print(\"최종 데이터프레임 크기:\", df_pre.shape)\n",
    "print(\"컬럼 목록:\", df_pre.columns.tolist())"
   ]
  },
  {
   "cell_type": "code",
   "execution_count": 3,
   "id": "f89a4a03",
   "metadata": {},
   "outputs": [],
   "source": [
    "# 10) 결과를 CSV로 저장\n",
    "df_pre.to_csv('preprocessing_all_with_seoul.csv', index=False, encoding='utf-8-sig')"
   ]
  }
 ],
 "metadata": {
  "kernelspec": {
   "display_name": "base",
   "language": "python",
   "name": "python3"
  },
  "language_info": {
   "codemirror_mode": {
    "name": "ipython",
    "version": 3
   },
   "file_extension": ".py",
   "mimetype": "text/x-python",
   "name": "python",
   "nbconvert_exporter": "python",
   "pygments_lexer": "ipython3",
   "version": "3.12.4"
  }
 },
 "nbformat": 4,
 "nbformat_minor": 5
}
