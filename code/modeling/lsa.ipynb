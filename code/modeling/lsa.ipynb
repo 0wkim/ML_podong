{
 "cells": [
  {
   "cell_type": "code",
   "execution_count": 1,
   "id": "8726557a",
   "metadata": {},
   "outputs": [],
   "source": [
    "import pandas as pd\n",
    "\n",
    "pd.set_option('display.max_seq_items', None)"
   ]
  },
  {
   "cell_type": "code",
   "execution_count": 2,
   "id": "690f7abe",
   "metadata": {},
   "outputs": [],
   "source": [
    "import matplotlib.pyplot as plt\n",
    "import matplotlib as mpl\n",
    "\n",
    "mpl.rcParams['font.family'] = 'NanumGothic' # matplotlib 한글깨짐 해결\n",
    "mpl.rcParams['axes.unicode_minus'] = False"
   ]
  },
  {
   "cell_type": "markdown",
   "id": "bcab54cd",
   "metadata": {},
   "source": [
    "### 전처리"
   ]
  },
  {
   "cell_type": "code",
   "execution_count": 3,
   "id": "88b7f786",
   "metadata": {},
   "outputs": [],
   "source": [
    "import pandas as pd\n",
    "file_path = \"final_data_rebounds.csv\"\n",
    "df_origin = pd.read_csv(file_path)"
   ]
  },
  {
   "cell_type": "code",
   "execution_count": 8,
   "id": "4229e27a",
   "metadata": {},
   "outputs": [
    {
     "data": {
      "text/plain": [
       "Index(['누적관객수', '총매출액', '상영일수', '관객수_mean', '관객수_std', '관객수_min', '관객수_max',\n",
       "       '관객수_first', '관객수_last', '관객수_sum', '관객수_volatility', '관객수_slope',\n",
       "       '관객수_peak_offset', '관객수_peak_value', '관객수_early_peak', '관객수_sum_after',\n",
       "       '스크린수_mean', '스크린수_std', '스크린수_min', '스크린수_max', '스크린수_first',\n",
       "       '스크린수_last', '스크린수_sum', '스크린수_volatility', '스크린수_slope',\n",
       "       '스크린수_peak_offset', '스크린수_peak_value', '스크린수_early_peak',\n",
       "       '스크린수_sum_after', '상영횟수_mean', '상영횟수_std', '상영횟수_min', '상영횟수_max',\n",
       "       '상영횟수_first', '상영횟수_last', '상영횟수_sum', '상영횟수_volatility', '상영횟수_slope',\n",
       "       '상영횟수_peak_offset', '상영횟수_peak_value', '상영횟수_early_peak',\n",
       "       '상영횟수_sum_after', '장르_상영일수_점수', '국적_상영일수_점수', '배우_점수', '배우_영화수_점수',\n",
       "       '배우_매출액_점수', '감독_점수', '감독_영화수_점수', '감독_매출액_점수', '배급사_점수', '배급사_영화수_점수',\n",
       "       '배급사_매출액_점수', '흥행안정성지수_10일', '장르_SF', '장르_가족', '장르_공연', '장르_공연실황',\n",
       "       '장르_공포', '장르_공포(호러)', '장르_기타', '장르_다큐멘터리', '장르_드라마', '장르_멜로/로맨스',\n",
       "       '장르_모험', '장르_뮤지컬', '장르_미스터리', '장르_범죄', '장르_사극', '장르_서부', '장르_서부극',\n",
       "       '장르_서부극(웨스턴)', '장르_서사', '장르_성인물(에로)', '장르_스릴러', '장르_애니메이션', '장르_액션',\n",
       "       '장르_어드벤처', '장르_전쟁', '장르_코미디', '장르_콘서트', '장르_판타지', '국적_Other', '국적_네덜란드',\n",
       "       '국적_독일', '국적_미국', '국적_스웨덴', '국적_스위스', '국적_스페인', '국적_영국', '국적_이탈리아',\n",
       "       '국적_일본', '국적_중국', '국적_캐나다', '국적_포르투갈', '국적_폴란드', '국적_프랑스', '국적_한국'],\n",
       "      dtype='object')"
      ]
     },
     "execution_count": 8,
     "metadata": {},
     "output_type": "execute_result"
    }
   ],
   "source": [
    "df.columns"
   ]
  },
  {
   "cell_type": "code",
   "execution_count": 6,
   "id": "00d5ff31",
   "metadata": {},
   "outputs": [],
   "source": [
    "cols_to_drop = ['영화명', '개봉일', '장르', '국적', '감독', '배급사', '대표국적', '등급', '제작사', '배우','조회일', '순위', '매출액', '매출액(점유율)', '매출액증감',\n",
    "       '매출액증감율(전일대비)', '관객수', '관객수증감(전일대비)', '관객수증감율(전일대비)', '스크린수', '상영횟수', \n",
    "       '흥행안정성지수_3일', '재반등횟수', '3일뒤_재반등횟수', '7일뒤_재반등횟수', '10일뒤_재반등횟수', '반감기',       ]\n",
    "df = df_origin.drop(columns=cols_to_drop)"
   ]
  },
  {
   "cell_type": "code",
   "execution_count": 9,
   "id": "f878c5d4",
   "metadata": {},
   "outputs": [],
   "source": [
    "df.fillna(df.mean(), inplace=True) # 결측값은 평균으로 채움"
   ]
  },
  {
   "cell_type": "markdown",
   "id": "98c8bb72",
   "metadata": {},
   "source": [
    "### lsa 적용"
   ]
  },
  {
   "cell_type": "code",
   "execution_count": 10,
   "id": "334f0391",
   "metadata": {},
   "outputs": [
    {
     "name": "stdout",
     "output_type": "stream",
     "text": [
      "70% 분산을 설명하는 컴포넌트 개수: 27\n",
      "원본 컬럼 수: 98 → 압축 후 컬럼 수: 81\n",
      "총 설명 분산 비율: 0.7113\n"
     ]
    }
   ],
   "source": [
    "import pandas as pd\n",
    "import numpy as np\n",
    "from sklearn.decomposition import TruncatedSVD\n",
    "from sklearn.preprocessing import StandardScaler\n",
    "\n",
    "# 1) 원-핫 컬럼 식별\n",
    "genre_cols   = [c for c in df.columns if c.startswith('장르_') and not c.endswith('_점수')]\n",
    "country_cols = [c for c in df.columns if c.startswith('국적_') and not c.endswith('_점수')]\n",
    "onehot_cols  = genre_cols + country_cols\n",
    "\n",
    "# 2) 원-핫 데이터 선택 및 스케일링\n",
    "X_onehot = df[onehot_cols].values\n",
    "scaler = StandardScaler(with_mean=False)  # 희소 행렬에선 with_mean=False\n",
    "X_scaled = scaler.fit_transform(X_onehot)\n",
    "\n",
    "# 3) Truncated SVD로 누적 분산 70%를 설명하는 컴포넌트 개수 찾기\n",
    "n_features = X_scaled.shape[1]\n",
    "svd_full = TruncatedSVD(n_components=n_features-1, random_state=42)\n",
    "svd_full.fit(X_scaled)\n",
    "cum_var = np.cumsum(svd_full.explained_variance_ratio_)\n",
    "n_components_70 = np.argmax(cum_var >= 0.70) + 1\n",
    "print(f\"70% 분산을 설명하는 컴포넌트 개수: {n_components_70}\")\n",
    "\n",
    "# 4) 실제 차원 축소\n",
    "svd = TruncatedSVD(n_components=n_components_70, random_state=42)\n",
    "X_reduced = svd.fit_transform(X_scaled)\n",
    "\n",
    "# 5) 압축 피쳐를 DataFrame으로 변환 및 기존 데이터와 결합\n",
    "reduced_cols = [f'LSA_GC_{i+1}' for i in range(n_components_70)]\n",
    "df_reduced = pd.DataFrame(X_reduced, columns=reduced_cols, index=df.index)\n",
    "\n",
    "# 원핫 컬럼 제거 후 병합\n",
    "df_final = pd.concat([\n",
    "    df.drop(columns=onehot_cols),\n",
    "    df_reduced\n",
    "], axis=1)\n",
    "\n",
    "print(f\"원본 컬럼 수: {len(df.columns)} → 압축 후 컬럼 수: {len(df_final.columns)}\")\n",
    "print(f\"총 설명 분산 비율: {svd.explained_variance_ratio_.sum():.4f}\")"
   ]
  },
  {
   "cell_type": "code",
   "execution_count": 12,
   "id": "349744f6",
   "metadata": {},
   "outputs": [],
   "source": [
    "components = pd.DataFrame(\n",
    "    svd.components_,\n",
    "    index=reduced_cols,\n",
    "    columns=onehot_cols\n",
    ")"
   ]
  },
  {
   "cell_type": "code",
   "execution_count": 13,
   "id": "01ae06b9",
   "metadata": {},
   "outputs": [
    {
     "name": "stdout",
     "output_type": "stream",
     "text": [
      "                 Top_1       Top_2     Top_3       Top_4       Top_5\n",
      "LSA_GC_1        장르_드라마       국적_미국     국적_한국       장르_액션      장르_스릴러\n",
      "LSA_GC_2         국적_한국       장르_기타  국적_Other  장르_성인물(에로)    장르_다큐멘터리\n",
      "LSA_GC_3        국적_프랑스     국적_이탈리아    장르_드라마      국적_스위스       국적_독일\n",
      "LSA_GC_4        장르_스릴러       장르_기타   장르_미스터리   장르_공포(호러)       장르_범죄\n",
      "LSA_GC_5      국적_Other       장르_기타  장르_애니메이션     장르_어드벤처       장르_액션\n",
      "LSA_GC_6         장르_공연      장르_뮤지컬     국적_독일       국적_영국       국적_한국\n",
      "LSA_GC_7         장르_공연   장르_공포(호러)  장르_애니메이션       국적_일본       국적_독일\n",
      "LSA_GC_8      국적_Other      장르_뮤지컬     장르_가족      장르_코미디      장르_드라마\n",
      "LSA_GC_9        장르_코미디      장르_판타지   국적_이탈리아      국적_프랑스       장르_가족\n",
      "LSA_GC_10     장르_다큐멘터리      국적_스웨덴   국적_네덜란드       장르_가족      국적_스페인\n",
      "LSA_GC_11        장르_범죄       장르_공연  장르_애니메이션      장르_뮤지컬     장르_공연실황\n",
      "LSA_GC_12  장르_서부극(웨스턴)      국적_스페인     국적_미국       국적_일본       장르_기타\n",
      "LSA_GC_13        장르_사극       국적_중국   국적_포르투갈       장르_전쟁   장르_공포(호러)\n",
      "LSA_GC_14       국적_폴란드       장르_범죄    국적_스웨덴       장르_기타       장르_가족\n",
      "LSA_GC_15       국적_스위스     국적_포르투갈   장르_공연실황      국적_캐나다   장르_멜로/로맨스\n",
      "LSA_GC_16      장르_공연실황      장르_뮤지컬     장르_SF      국적_폴란드      국적_캐나다\n",
      "LSA_GC_17        장르_모험      국적_스웨덴   국적_포르투갈       장르_SF      국적_폴란드\n",
      "LSA_GC_18        장르_공포  장르_성인물(에로)   장르_공연실황      국적_스위스       장르_전쟁\n",
      "LSA_GC_19        장르_서사       장르_공포     장르_모험       장르_사극       국적_중국\n",
      "LSA_GC_20       장르_서부극       장르_서사    국적_스페인     장르_공연실황  장르_성인물(에로)\n",
      "LSA_GC_21        장르_서부      장르_서부극     장르_공포      국적_폴란드   장르_멜로/로맨스\n",
      "LSA_GC_22       장르_콘서트      장르_서부극   국적_네덜란드   장르_멜로/로맨스       국적_중국\n",
      "LSA_GC_23        장르_서사       장르_서부    국적_스웨덴      장르_콘서트     장르_공연실황\n",
      "LSA_GC_24       국적_캐나다       장르_사극     국적_독일       장르_가족      장르_서부극\n",
      "LSA_GC_25      국적_포르투갈       장르_공포    국적_스페인      국적_폴란드      국적_캐나다\n",
      "LSA_GC_26        장르_모험  장르_성인물(에로)    국적_폴란드     장르_공연실황     국적_네덜란드\n",
      "LSA_GC_27     장르_다큐멘터리      국적_폴란드     장르_사극      장르_코미디       장르_모험\n"
     ]
    }
   ],
   "source": [
    "top_n = 5\n",
    "\n",
    "# 각 컴포넌트별 상위 N개 피처를 dict 형태로 추출\n",
    "top_dict = {\n",
    "    comp: components.loc[comp]\n",
    "                       .nlargest(top_n)   # (값이 큰 순서대로)\n",
    "                       .index\n",
    "                       .tolist()\n",
    "    for comp in components.index\n",
    "}\n",
    "\n",
    "# dict → DataFrame 변환 (행: 컴포넌트, 열: Top_1~Top_N)\n",
    "df_top_features = pd.DataFrame.from_dict(\n",
    "    top_dict,\n",
    "    orient='index',\n",
    "    columns=[f\"Top_{i+1}\" for i in range(top_n)]\n",
    ")\n",
    "\n",
    "# 결과 출력\n",
    "print(df_top_features)"
   ]
  }
 ],
 "metadata": {
  "kernelspec": {
   "display_name": ".venv",
   "language": "python",
   "name": "python3"
  },
  "language_info": {
   "codemirror_mode": {
    "name": "ipython",
    "version": 3
   },
   "file_extension": ".py",
   "mimetype": "text/x-python",
   "name": "python",
   "nbconvert_exporter": "python",
   "pygments_lexer": "ipython3",
   "version": "3.12.2"
  }
 },
 "nbformat": 4,
 "nbformat_minor": 5
}
